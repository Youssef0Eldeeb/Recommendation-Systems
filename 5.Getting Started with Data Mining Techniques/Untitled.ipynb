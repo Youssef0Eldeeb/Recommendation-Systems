{
 "cells": [
  {
   "cell_type": "markdown",
   "id": "bf022170",
   "metadata": {},
   "source": [
    "### Euclidean distance"
   ]
  },
  {
   "cell_type": "code",
   "execution_count": 2,
   "id": "530963cb",
   "metadata": {},
   "outputs": [],
   "source": [
    "import numpy as np\n"
   ]
  },
  {
   "cell_type": "code",
   "execution_count": 3,
   "id": "c6831904",
   "metadata": {},
   "outputs": [],
   "source": [
    "#Function to compute Euclidean Distance.\n",
    "def euclidean(ve1,ve2):\n",
    "    #Convert 1-D Python lists to numpy vectors\n",
    "    v1 = np.array(ve1)\n",
    "    v2 = np.array(ve2)\n",
    "    \n",
    "    #Compute vector which is the element wise square of the difference\n",
    "    diff = np.power(v1-v2, 2)\n",
    "    \n",
    "    #Perform summation of the elements of the above vector\n",
    "    sigma_val = np.sum(diff)\n",
    "    \n",
    "    #Compute square root and return final Euclidean score\n",
    "    euclidean_score = np.sqrt(sigma_val)\n",
    "    \n",
    "    return euclidean_score"
   ]
  },
  {
   "cell_type": "code",
   "execution_count": 4,
   "id": "19f0a65e",
   "metadata": {},
   "outputs": [
    {
     "data": {
      "text/plain": [
       "7.483314773547883"
      ]
     },
     "execution_count": 4,
     "metadata": {},
     "output_type": "execute_result"
    }
   ],
   "source": [
    "#Define 3 users with ratings for 5 movies\n",
    "u1 = [5,1,2,4,5]\n",
    "u2 = [1,5,4,2,1]\n",
    "u3 = [5,2,2,4,4]\n",
    "\n",
    "euclidean(u1,u2)\n"
   ]
  },
  {
   "cell_type": "code",
   "execution_count": 5,
   "id": "5ac425ea",
   "metadata": {},
   "outputs": [
    {
     "data": {
      "text/plain": [
       "1.4142135623730951"
      ]
     },
     "execution_count": 5,
     "metadata": {},
     "output_type": "execute_result"
    }
   ],
   "source": [
    "euclidean(u1,u3)"
   ]
  },
  {
   "cell_type": "markdown",
   "id": "64cf2133",
   "metadata": {},
   "source": [
    "### Pearson correlation"
   ]
  },
  {
   "cell_type": "code",
   "execution_count": 6,
   "id": "aa584324",
   "metadata": {},
   "outputs": [
    {
     "data": {
      "text/plain": [
       "2.23606797749979"
      ]
     },
     "execution_count": 6,
     "metadata": {},
     "output_type": "execute_result"
    }
   ],
   "source": [
    "Ali = [1,1,3,2,4]\n",
    "Ahmed = [2,2,4,3,5]\n",
    "euclidean(Ali,Ahmed)"
   ]
  },
  {
   "cell_type": "code",
   "execution_count": 7,
   "id": "7b41eef1",
   "metadata": {},
   "outputs": [
    {
     "data": {
      "text/plain": [
       "6.324555320336759"
      ]
     },
     "execution_count": 7,
     "metadata": {},
     "output_type": "execute_result"
    }
   ],
   "source": [
    "Mona = [5,5,3,4,2]\n",
    "euclidean(Ali,Mona)"
   ]
  },
  {
   "cell_type": "code",
   "execution_count": 9,
   "id": "c8853055",
   "metadata": {},
   "outputs": [
    {
     "data": {
      "text/plain": [
       "(1.0, 0.0)"
      ]
     },
     "execution_count": 9,
     "metadata": {},
     "output_type": "execute_result"
    }
   ],
   "source": [
    "# computting the Pearson Similarity Score with SciPy package\n",
    "from scipy.stats import pearsonr\n",
    "pearsonr(Ali,Ahmed)"
   ]
  },
  {
   "cell_type": "code",
   "execution_count": 10,
   "id": "3be84db0",
   "metadata": {},
   "outputs": [
    {
     "data": {
      "text/plain": [
       "(-1.0, 0.0)"
      ]
     },
     "execution_count": 10,
     "metadata": {},
     "output_type": "execute_result"
    }
   ],
   "source": [
    "pearsonr(Ali,Mona)"
   ]
  },
  {
   "cell_type": "code",
   "execution_count": 11,
   "id": "0d421072",
   "metadata": {},
   "outputs": [
    {
     "data": {
      "text/plain": [
       "(-1.0, 0.0)"
      ]
     },
     "execution_count": 11,
     "metadata": {},
     "output_type": "execute_result"
    }
   ],
   "source": [
    "pearsonr(Ahmed,Mona)"
   ]
  },
  {
   "cell_type": "code",
   "execution_count": null,
   "id": "3a112df6",
   "metadata": {},
   "outputs": [],
   "source": []
  }
 ],
 "metadata": {
  "kernelspec": {
   "display_name": "Python 3 (ipykernel)",
   "language": "python",
   "name": "python3"
  },
  "language_info": {
   "codemirror_mode": {
    "name": "ipython",
    "version": 3
   },
   "file_extension": ".py",
   "mimetype": "text/x-python",
   "name": "python",
   "nbconvert_exporter": "python",
   "pygments_lexer": "ipython3",
   "version": "3.9.7"
  }
 },
 "nbformat": 4,
 "nbformat_minor": 5
}
